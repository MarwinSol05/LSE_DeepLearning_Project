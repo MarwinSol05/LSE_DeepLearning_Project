{
  "nbformat": 4,
  "nbformat_minor": 0,
  "metadata": {
    "colab": {
      "provenance": [],
      "collapsed_sections": [
        "PqMdKX0vu4X2",
        "e9Aynsrjuzpz",
        "__3vR2PputOX",
        "yi1yDvjAvGNp",
        "ZIGshwMevd3K"
      ]
    },
    "kernelspec": {
      "name": "python3",
      "display_name": "Python 3"
    },
    "language_info": {
      "name": "python"
    },
    "accelerator": "GPU",
    "gpuClass": "standard"
  },
  "cells": [
    {
      "cell_type": "markdown",
      "source": [
        "## Introduction\n",
        "In this notebook, we utilize Tweepy library to extract tweets over 8000 tweets from ’20-04-2023’ to ’25-04-2023' about ’AMZN’ stock.\n",
        "We evaluate the pre-trained GAN model to predict stock price on ’26-04-2023’. The resulting RMSE is 0.045."
      ],
      "metadata": {
        "id": "5QLk0YhANm18"
      }
    },
    {
      "cell_type": "markdown",
      "source": [
        "## Import Libraries"
      ],
      "metadata": {
        "id": "PqMdKX0vu4X2"
      }
    },
    {
      "cell_type": "code",
      "source": [
        "pip install ta"
      ],
      "metadata": {
        "colab": {
          "base_uri": "https://localhost:8080/"
        },
        "id": "corYNIn6bnRh",
        "outputId": "b29e642f-f499-427b-f38b-15d65c15fd3b"
      },
      "execution_count": 1,
      "outputs": [
        {
          "output_type": "stream",
          "name": "stdout",
          "text": [
            "Looking in indexes: https://pypi.org/simple, https://us-python.pkg.dev/colab-wheels/public/simple/\n",
            "Collecting ta\n",
            "  Downloading ta-0.10.2.tar.gz (25 kB)\n",
            "  Preparing metadata (setup.py) ... \u001b[?25l\u001b[?25hdone\n",
            "Requirement already satisfied: numpy in /usr/local/lib/python3.10/dist-packages (from ta) (1.22.4)\n",
            "Requirement already satisfied: pandas in /usr/local/lib/python3.10/dist-packages (from ta) (1.5.3)\n",
            "Requirement already satisfied: pytz>=2020.1 in /usr/local/lib/python3.10/dist-packages (from pandas->ta) (2022.7.1)\n",
            "Requirement already satisfied: python-dateutil>=2.8.1 in /usr/local/lib/python3.10/dist-packages (from pandas->ta) (2.8.2)\n",
            "Requirement already satisfied: six>=1.5 in /usr/local/lib/python3.10/dist-packages (from python-dateutil>=2.8.1->pandas->ta) (1.16.0)\n",
            "Building wheels for collected packages: ta\n",
            "  Building wheel for ta (setup.py) ... \u001b[?25l\u001b[?25hdone\n",
            "  Created wheel for ta: filename=ta-0.10.2-py3-none-any.whl size=29103 sha256=3c432e01acab7ef74211c94cef8ca9f9bff95a2bc7074b8be120203476f4dc50\n",
            "  Stored in directory: /root/.cache/pip/wheels/47/51/06/380dc516ea78621870b93ff65527c251afdfdc5fa9d7f4d248\n",
            "Successfully built ta\n",
            "Installing collected packages: ta\n",
            "Successfully installed ta-0.10.2\n"
          ]
        }
      ]
    },
    {
      "cell_type": "code",
      "source": [
        "import tweepy\n",
        "import re\n",
        "import pandas as pd\n",
        "import numpy as np\n",
        "import warnings\n",
        "warnings.simplefilter(action='ignore', category=FutureWarning)\n",
        "import yfinance as yf\n",
        "import ta\n",
        "import matplotlib.pyplot as plt\n",
        "from matplotlib.dates import DateFormatter\n",
        "from datetime import datetime, timedelta\n",
        "from sklearn.preprocessing import MinMaxScaler\n",
        "from pickle import dump\n",
        "import nltk\n",
        "from nltk.sentiment.vader import SentimentIntensityAnalyzer\n",
        "from nltk.sentiment.vader import SentimentIntensityAnalyzer\n",
        "import unicodedata\n",
        "nltk.download('vader_lexicon')\n",
        "import datetime\n",
        "from joblib import load\n",
        "import tensorflow as tf\n",
        "from sklearn.metrics import mean_squared_error"
      ],
      "metadata": {
        "colab": {
          "base_uri": "https://localhost:8080/"
        },
        "id": "SEGVMvrDa6tZ",
        "outputId": "5895627c-bbdc-4108-e2ce-f206ab4f07e8"
      },
      "execution_count": 28,
      "outputs": [
        {
          "output_type": "stream",
          "name": "stderr",
          "text": [
            "[nltk_data] Downloading package vader_lexicon to /root/nltk_data...\n",
            "[nltk_data]   Package vader_lexicon is already up-to-date!\n"
          ]
        }
      ]
    },
    {
      "cell_type": "markdown",
      "source": [
        "## Get Tweets"
      ],
      "metadata": {
        "id": "e9Aynsrjuzpz"
      }
    },
    {
      "cell_type": "code",
      "source": [
        "# We specift time range for tweets to be extracted.\n",
        "# start - the date we want to consider tweets from\n",
        "# end - the date we want to consider until to\n",
        "\n",
        "start = datetime.datetime(2023, 4, 25, 00, 00, 0, 0)\n",
        "end =  start + datetime.timedelta(days=1)"
      ],
      "metadata": {
        "id": "ucpxPySp0REK"
      },
      "execution_count": 3,
      "outputs": []
    },
    {
      "cell_type": "markdown",
      "source": [
        "In order to retrieve twitter data, personal bearer_token was used for authentication. \n",
        "\n",
        "Reference for Tweepy library usage https://docs.tweepy.org/en/stable/client.html#search-tweets. Search_recent_tweets only allows to extract 100 tweets at a time, therefore we utilised next_token parameter to acces tweets in the page."
      ],
      "metadata": {
        "id": "CI0o-2t2He6P"
      }
    },
    {
      "cell_type": "code",
      "source": [
        "bearer_token = ''\n",
        "client = tweepy.Client(bearer_token)\n",
        "\n",
        "tweets = []\n",
        "response = client.search_recent_tweets(\"Amazon stock\", expansions='author_id', start_time = start, end_time = end, max_results=100)\n",
        "tweets.append([response.data])\n",
        "# next_token gives the link for the next page containing tweets\n",
        "next_token = response[3]['next_token']\n",
        "\n",
        "# We continue extracting tweets until all the tweets mentioning \"Amazon stock\" have been retrieved for the specified date.\n",
        "for i in range(100):\n",
        "  response = client.search_recent_tweets(\"Amazon stock\", expansions='author_id', start_time = start, end_time = end, max_results=100, next_token=next_token)\n",
        "  tweets.append([response.data])\n",
        "  if 'next_token' in response[3]:\n",
        "    next_token = response[3]['next_token']\n",
        "  else:\n",
        "    print('End of tweets for the selected day')\n",
        "    break\n",
        "\n",
        "print(tweets[0][0])"
      ],
      "metadata": {
        "colab": {
          "base_uri": "https://localhost:8080/"
        },
        "id": "BTwnhbAMvPfh",
        "outputId": "4c2ccdc2-fa38-4d45-f976-723745fc38c9"
      },
      "execution_count": 4,
      "outputs": [
        {
          "output_type": "stream",
          "name": "stdout",
          "text": [
            "End of tweets for the selected day\n",
            "[<Tweet id=1651012677869633537 text=\"RT @ahouse4all: If you'd like to help an LA mutual aid group stock up on supplies (especially the snacks + shirts + shorts + shampoo + cond…\">, <Tweet id=1651012457081495553 text='🔥🚨 Attention: Splatoon OLED Switch is in stock! https://t.co/7LGvLaIPNC #ad #Switch #SwitchRestock #SplatoonOLEDSwitch'>, <Tweet id=1651012343885623297 text=\"RT @mrsholden2019: $30 will #clearthelist of pencils and erasers in time for state testing in 2 weeks! I'd love to have a full stock so we'…\">, <Tweet id=1651012330686238724 text='RT @Johnny24450: THIS WILL MAKE THE RISE TO GREATNESS EVEN BETTER!!! &gt; REMEMBER &gt; AMAZON STOCK WENT FROM $1.50 TO $106 PER SHARE IN 1999 &gt;…'>, <Tweet id=1651012034543378434 text='RT @Johnny24450: THIS WILL MAKE THE RISE TO GREATNESS EVEN BETTER!!! &gt; REMEMBER &gt; AMAZON STOCK WENT FROM $1.50 TO $106 PER SHARE IN 1999 &gt;…'>, <Tweet id=1651011886748401670 text=\"RT @ahouse4all: If you'd like to help an LA mutual aid group stock up on supplies (especially the snacks + shirts + shorts + shampoo + cond…\">, <Tweet id=1651011663867572224 text='RT @labhopping: 📝Review of #LabHopping by Manjula Narayan, National Books Editor of Hindustan Times.\\nBook your copy right away: https://t.c…'>, <Tweet id=1651011246265712644 text='THIS WILL MAKE THE RISE TO GREATNESS EVEN BETTER!!! &gt; REMEMBER &gt; AMAZON STOCK WENT FROM $1.50 TO $106 PER SHARE IN 1999 &gt; ONLY TO FALL BACK DOWN TO $5.97 IN 2001!!! &gt; AMAZON THEN REACHED A PEAK OF $186!!! &gt; PATIENCE IS THE KEY &amp; GROVECOIN IS THE TICKET!!! $GRV #GRVG #GROVE https://t.co/4uTwVUEGV5 https://t.co/eb87elC9DR'>, <Tweet id=1651010884666376194 text='@Jenbox360 Lol this did make  me laugh  , if want Xbox just check Argos and Amazon been in stock for last year lol https://t.co/AseWSmDDeu'>, <Tweet id=1651010655363936257 text=\"RT @halooie1: Here's the next thing I'm going to buy. Available at the link (in stock) or from Amazon (now out of stock). https://t.co/DsoX…\">, <Tweet id=1651009929870729218 text='RT @bywillpollock: @tonyserrata @FIy_Screaming @MelissaJPeltier @RachelBitecofer @IdahoIndep @newsfeed62 @alex_kirshner @DavidManOnFire @ca…'>, <Tweet id=1651008892523151360 text='【Amazon co jp限定】Stock [オリジナル・カラオケ付] &lt;2023ラッカーマスターサウンド&gt; [2CD] (メガジャケ付)\\n\\n【04/26 08:42】\\nhttps://t.co/KMqAH7c0oF'>, <Tweet id=1651008237972385798 text='@Nintendeal I can confirm that GameStop is unfortunately no longer in stock. Had to go to Amazon.'>, <Tweet id=1651008214258036736 text='✅stock: 2023/04/25 18:40(EST)\\n\\nNZXT N7 Z790 Motherboard - N7-Z79XT-B1 - Intel Z790 chipset (Supports  $299.99\\n\\n➡️ https://t.co/ihy6ymEbLg\\n🛒 https://t.co/R6nCbddKjk\\n\\n#topseller #ad #stock #NZXT'>, <Tweet id=1651007540094808065 text=\"RT @ahouse4all: If you'd like to help an LA mutual aid group stock up on supplies (especially the snacks + shirts + shorts + shampoo + cond…\">, <Tweet id=1651007081296674823 text=\"My profitable investing book is back for sale on Amazon - go to:    https://t.co/23olGwHeru   Gen Z - here's way to achieve #FIRE  - Financial Independence/Retire Early Portfolio up 1,711% last 16 years &amp; get sample newsletter free! - https://t.co/CzS5PXZWco #Lichello - #AIM\">, <Tweet id=1651007011436257283 text=\"RT @ahouse4all: If you'd like to help an LA mutual aid group stock up on supplies (especially the snacks + shirts + shorts + shampoo + cond…\">, <Tweet id=1651006373570723842 text='@tonyserrata @FIy_Screaming @MelissaJPeltier @RachelBitecofer @IdahoIndep @newsfeed62 @alex_kirshner @DavidManOnFire @carrybeyond @SaysDana @UROCKlive1 @brooklynmarie @MrTAchilles @Tesla @Rivian @FiskerInc @PolestarCars this is fascinating: Rivian wants to sell its EV Trucks to other vendors https://t.co/FIzVIxY4pz'>, <Tweet id=1651006210127327232 text='RT @mudede: And there you have it. $11 billion gone. Not Amazon. Or that Creative Destruction nonsense. Just regular state-permitted robber…'>, <Tweet id=1651006071895478272 text='Assault Racing Products A7599BK GM 700R4 4L60E Black Transmission Pan Stock Capacity Automatic Trans 4L60 4L65E QZAHBYM\\n\\nhttps://t.co/FqQxlkrR4S'>, <Tweet id=1651005791070212096 text='✅stock: 2023/04/25 18:30(EST)\\n\\nAMD Ryzen 7 7800X3D 8-Core, 16-Thread Desktop Processor AMD Ryzen 7 78 $449.00\\n\\n➡️ https://t.co/RGkcEiVEHI\\n🛒 https://t.co/EkBSJNOwjY\\n\\n#Ryzen #ad #stock #AMD'>, <Tweet id=1651004977941209088 text='RT @BrokenGamezHDR_: What constraints are yall talking about? I just went to target, walmart, and amazon website and they all got xboxs. Ev…'>, <Tweet id=1651004888485343233 text='Private label business (PL) is achieving remarkable success on Amazon, generating millions of dollars in sales every month through just one powerful hunting/sourcing strategy.\\nNo need to stress on daily sourcing, just monitor and replenish stock as needed.\\n\\n#Amazon  #amazonfba'>, <Tweet id=1651004871892512770 text='🛎️ IN STOCK ALERT 🛎️\\n\\nZOTAC GeForce RTX 4090 AMP Extreme AIRO Graphics Card is in stock at Amazon for $1,649.00 (Less than MSRP)\\nhttps://t.co/2NjYRplrxm\\n\\n#rtx4090 #gpu #GPUalert\\n\\nSold by Amazon Export Sales LLC\\n\\nAs of 04/25/23 07:26 PM EDT'>, <Tweet id=1651004688358322177 text='Wiseco 4981M07600 76 00mm Stock Compression 248 6cc Motorcycle Piston Kit BNKCYVW\\n\\nhttps://t.co/Lkh9DOuToL'>, <Tweet id=1651004534049902592 text='Gotham Steel Hammered Copper Collection – 20 Piece Premium Cookware &amp; Bakeware Set with Nonstick Copper Coating, Includes Skillets, Stock Pots, Deep Square Fry Basket, Cookie Sheet and Baking Pans https://t.co/dqOb32nCmR via @amazon'>, <Tweet id=1651004420392648704 text=\"RT @ahouse4all: If you'd like to help an LA mutual aid group stock up on supplies (especially the snacks + shirts + shorts + shampoo + cond…\">, <Tweet id=1651004272731906050 text='🛎️ IN STOCK ALERT 🛎️\\n\\nASUS TUF Gaming GeForce RTX 4090 Graphics Card (PCIe 4.0, 24GB GDDR6X, HDMI 2.1a, DisplayP is in stock at Amazon for $1,599.99 (MSRP)\\nhttps://t.co/MtW2MnXJvx\\n\\n#rtx4090 #gpu #GPUalert\\n\\nSold by Amazon\\n\\nAs of 04/25/23 07:24 PM EDT'>, <Tweet id=1651004032134135813 text='ACCEL 4093 Spark Plug Wire Set - Super Stock Graphite Core 8mm - Chevy/GMC/Oldsmobile 4 3L V6 - Yellow EY7QMAX\\n\\nhttps://t.co/jkJxGOw5jM'>, <Tweet id=1651003975125336064 text=\"RT @ahouse4all: If you'd like to help an LA mutual aid group stock up on supplies (especially the snacks + shirts + shorts + shampoo + cond…\">, <Tweet id=1651003182846447616 text='✅stock: 2023/04/25 18:20(EST)\\n\\nNZXT H7 Flow - CM-H71FW-01 - ATX Mid Tower PC Gaming Case - Front I/O  $129.99\\n\\n➡️ https://t.co/qBqvT5O7hi\\n🛒 https://t.co/UwTENddirR\\n\\n#topseller #ad #stock #NZXT'>, <Tweet id=1651002421076717568 text='Robert Simmons Titanium Brushes Long Handle Single Stock 12 Filbert TT42 ICCJT8G\\n\\nhttps://t.co/bZKtM6vy5a'>, <Tweet id=1651002379230117888 text=\"RT @ahouse4all: If you'd like to help an LA mutual aid group stock up on supplies (especially the snacks + shirts + shorts + shampoo + cond…\">, <Tweet id=1651002150426664961 text='PNY GEFORCE RTX 4090 VERTO now in stock at Amazon for $1609.99. \\n\\nhttps://t.co/nIhGFwogrh\\n\\n#RTX4090 #NVIDIA #GeForceRTX4090 #NvidiaGeForceRTX4090 #GeForce #ad'>, <Tweet id=1651001511835496450 text=\"RT @ahouse4all: If you'd like to help an LA mutual aid group stock up on supplies (especially the snacks + shirts + shorts + shampoo + cond…\">, <Tweet id=1651001400158048260 text=\"RT @ahouse4all: If you'd like to help an LA mutual aid group stock up on supplies (especially the snacks + shirts + shorts + shampoo + cond…\">, <Tweet id=1651001176773763073 text='RT @YaronReuven: “KIRUV is like a penny stock that turns into Amazon!”\\n\\nRabbi Yaron Reuven\\n\\nSTART BUILDING YOUR AMAZING Olam HaBa TODAY.…'>, <Tweet id=1651000869574397952 text=\"RT @ahouse4all: If you'd like to help an LA mutual aid group stock up on supplies (especially the snacks + shirts + shorts + shampoo + cond…\">, <Tweet id=1651000699474395138 text=\"RT @ahouse4all: If you'd like to help an LA mutual aid group stock up on supplies (especially the snacks + shirts + shorts + shampoo + cond…\">, <Tweet id=1651000484327505920 text='The Friendly Neighborhood Spider-Man SH Figuarts is in stock at Amazon. Get Yours link below #ad\\nhttps://t.co/loUancdfz8\\n\\n#Spiderman #SpiderManNoWayHome #SpiderManAcrossTheSpiderVerse #SHFiguarts #Collectible #Collectibles #PopHolmes https://t.co/5njj9HShHz'>, <Tweet id=1651000478803607553 text=\"RT @ahouse4all: If you'd like to help an LA mutual aid group stock up on supplies (especially the snacks + shirts + shorts + shampoo + cond…\">, <Tweet id=1651000422197346304 text=\"RT @ahouse4all: If you'd like to help an LA mutual aid group stock up on supplies (especially the snacks + shirts + shorts + shampoo + cond…\">, <Tweet id=1651000420976713728 text=\"RT @ahouse4all: If you'd like to help an LA mutual aid group stock up on supplies (especially the snacks + shirts + shorts + shampoo + cond…\">, <Tweet id=1651000332955320321 text='1 Pc Hair Brush - LOW STOCK\\n.\\n£8.99 &gt;&gt;&gt;&gt; FROM £14.49\\n\\nPRICE DROP\\n.\\nhttps://t.co/H4fBWBfxaB'>, <Tweet id=1651000211580366849 text=\"RT @ahouse4all: If you'd like to help an LA mutual aid group stock up on supplies (especially the snacks + shirts + shorts + shampoo + cond…\">, <Tweet id=1651000002209013763 text=\"RT @ahouse4all: If you'd like to help an LA mutual aid group stock up on supplies (especially the snacks + shirts + shorts + shampoo + cond…\">, <Tweet id=1650999977328496641 text='RT @karliisue: State testing is currently going on &amp; I am need of HELP with pencils &amp; erasers✏️ ! I’d love to have a full stock so we’re pr…'>, <Tweet id=1650999859598458881 text='RT @karliisue: State testing is currently going on &amp; I am need of HELP with pencils &amp; erasers✏️ ! I’d love to have a full stock so we’re pr…'>, <Tweet id=1650999766917038080 text='RT @karliisue: State testing is currently going on &amp; I am need of HELP with pencils &amp; erasers✏️ ! I’d love to have a full stock so we’re pr…'>, <Tweet id=1650998551135113216 text='@joeyroditis I have an Omoton brand keyboard that i like. The style i wanted with a number pad was out of stock but its super lightweight, holds a good longlasting charge and it has an LED backlight under the keys. I think it was only like 10-20$ on amazon'>, <Tweet id=1650998426790764547 text=\"@Jampzer It's so good it's out of stock rn. Add it to your wish list!\\nhttps://t.co/YLvOAX2X2e\">, <Tweet id=1650998308700127233 text=\"RT @halooie1: Here's the next thing I'm going to buy. Available at the link (in stock) or from Amazon (now out of stock). https://t.co/DsoX…\">, <Tweet id=1650998191477645319 text='We are hosting a book signing on May 20th!\\n\\nMeet sports writer Curtis Stock as he signs copies of his new book, The Turcottes! A remarkable story of a horse racing dynasty. \\n\\nListen to the sneak peek Curtis gives about his book and find it online here: https://t.co/B0h1m3ckNv https://t.co/f4BFhiIQUD'>, <Tweet id=1650998160704290817 text='✅stock: 2023/04/25 18:00(EST)\\n\\nNZXT H9 Flow Dual-Chamber ATX Mid-Tower PC Gaming Case – High-Airflow  $159.99\\n\\n➡️ https://t.co/ZctsXEo2Kz\\n🛒 https://t.co/mYfZmA017Q\\n\\n#topseller #ad #stock #NZXT'>, <Tweet id=1650997766900924416 text='🔥🚨 Live Restock: Splatoon OLED Switch is in stock! https://t.co/7LGvLaIPNC #ad #Switch #SwitchRestock #SplatoonOLEDSwitch'>, <Tweet id=1650997257628442627 text='RT @toysbeetle: Hasbro Dungeons &amp; Dragons Honor Among Thieves Series are in stock on Amazon\\n\\nHolga-https://t.co/iVq9oH937X\\nForge-https://t.…'>, <Tweet id=1650996672866992128 text=\"RT @mrsholden2019: $30 will #clearthelist of pencils and erasers in time for state testing in 2 weeks! I'd love to have a full stock so we'…\">, <Tweet id=1650996622308827138 text='RT @karliisue: State testing is currently going on &amp; I am need of HELP with pencils &amp; erasers✏️ ! I’d love to have a full stock so we’re pr…'>, <Tweet id=1650996500464549889 text=\"RT @mrsholden2019: $30 will #clearthelist of pencils and erasers in time for state testing in 2 weeks! I'd love to have a full stock so we'…\">, <Tweet id=1650996038914678784 text='🛎️ IN STOCK ALERT 🛎️\\n\\nGIGABYTE AORUS GeForce RTX 4080 Master 16G Graphics Card, 3X WINDFORCE Fans, 16GB 256-bit is in stock at Amazon for $1,129.99 (Less than MSRP) (originally $1,349.99)\\nhttps://t.co/mDc7fldiSB\\n\\n#rtx4080 #gpu #gpudrop\\n\\nAs of 04/25/23 06:51 PM EDT'>, <Tweet id=1650995564270477316 text=\"RT @ahouse4all: If you'd like to help an LA mutual aid group stock up on supplies (especially the snacks + shirts + shorts + shampoo + cond…\">, <Tweet id=1650994398975369216 text=\"RT @halooie1: Here's the next thing I'm going to buy. Available at the link (in stock) or from Amazon (now out of stock). https://t.co/DsoX…\">, <Tweet id=1650993874591191040 text='RT @EdgeCGroup: Big cloud growth in Microsoft earnings. Stock +5% after hours. Amazon earnings on the 27th $MSFT $AMZN'>, <Tweet id=1650993788465348609 text='RT @NacksonD: $Googl and $MSFT crushed earnings. Damn. The stock market saved from capitulation for now. Let’s see what Amazon and apple ha…'>, <Tweet id=1650993367428243458 text='🛎️ IN STOCK ALERT 🛎️\\n\\nZOTAC Gaming GeForce RTX 4080 16GB Trinity 16GB ZT-D40810D-10P is in stock at Amazon for $1,055.99 (Less than MSRP) (originally $1,199.99)\\nhttps://t.co/TMP5SkQqGa\\n\\n#rtx4080 #gpu #gpudrop\\n\\nAs of 04/25/23 06:41 PM EDT'>, <Tweet id=1650993115023671296 text='✅stock: 2023/04/25 17:40(EST)\\n\\nNZXT F120 RGB Fans - RF-R12SF-B1 - Advanced RGB Lighting Customization $24.99\\n\\n➡️ https://t.co/c4OkeRl9C5\\n🛒 https://t.co/DMVHLDPXN6\\n\\n#topseller #ad #stock #NZXT'>, <Tweet id=1650993088775569409 text='RT @NacksonD: $Googl and $MSFT crushed earnings. Damn. The stock market saved from capitulation for now. Let’s see what Amazon and apple ha…'>, <Tweet id=1650993080986730497 text='With huge reported increases in their Cloud businesses today, Google and Microsoft are firing after hours. Amazon has the biggest cloud business and the stock has jumped 5% after hours too. I own big tech. It goes up or breaks up. $AMZN $GOOG $MSFT $META https://t.co/wXe0ESDgCL'>, <Tweet id=1650992928242692099 text='🛎️ IN STOCK ALERT 🛎️\\n\\nGIGABYTE AORUS GeForce RTX 4090 Master 24G Graphics Card, 3X WINDFORCE Fans, 24GB 384-bit is in stock at Amazon for $1,799.99 (MSRP)\\nhttps://t.co/vZmQJkoaqc\\n\\n#rtx4090 #gpu #GPUalert\\n\\nSold by Amazon\\n\\nAs of 04/25/23 06:39 PM EDT'>, <Tweet id=1650992750823714819 text=\"RT @ahouse4all: If you'd like to help an LA mutual aid group stock up on supplies (especially the snacks + shirts + shorts + shampoo + cond…\">, <Tweet id=1650992647912275968 text='🟢\\u200a🟢\\u200a #TESLA STOCK ANALISIS TECNICO Y FUNDAMENTAL 📊\\u200a📊 PRECIO OBJETIVO DE TESLA 💡\\u200a💡\\u200a TESLA #STOCK 📈\\u200a📈\\nhttps://t.co/7JsYLaosQd !!! $TSLA #Market #Trending #acciones #bolsadevalores #inversion #finance #investment #inverted #tesla #apple #microsoft #amazon https://t.co/ANYG6j0x7i'>, <Tweet id=1650992140246478848 text='RT @BrokenGamezHDR_: What constraints are yall talking about? I just went to target, walmart, and amazon website and they all got xboxs. Ev…'>, <Tweet id=1650991903536553985 text='CRANK WEBS / 2, Manufacturer: WISECO, Manufacturer Part Number: HR204-AD, Stock Photo - Actual parts may vary  V0VHE6S\\n\\nhttps://t.co/bIAHENU7Cu'>, <Tweet id=1650991678231289856 text=\"RT @ahouse4all: If you'd like to help an LA mutual aid group stock up on supplies (especially the snacks + shirts + shorts + shampoo + cond…\">, <Tweet id=1650991300080959489 text='RT @karliisue: State testing is currently going on &amp; I am need of HELP with pencils &amp; erasers✏️ ! I’d love to have a full stock so we’re pr…'>, <Tweet id=1650991175917084679 text='【US Stock】 Bike Trainer Stand Magnetic Bicycle Stationary Stand Fits for 24-29inch, 700c Wheels, Quick Release Skewer &amp; Front N8RWRW9\\n\\nhttps://t.co/e4VA4eVayO'>, <Tweet id=1650991096044871681 text=\"RT @ahouse4all: If you'd like to help an LA mutual aid group stock up on supplies (especially the snacks + shirts + shorts + shampoo + cond…\">, <Tweet id=1650990677751402496 text='✅stock: 2023/04/25 17:30(EST)\\n\\nASUS TUF Gaming NVIDIA GeForce RTX 3060 V2 OC Edition Graphics Card (P $409.99\\n\\n➡️ https://t.co/jDpsA48pMl\\n🛒 https://t.co/8AQjeWZyPi\\n\\n#topseller #ad #stock #ASUS'>, <Tweet id=1650990650945576960 text='✅stock: 2023/04/25 17:30(EST)\\n\\nMSI Gaming GeForce RTX 3060 12GB 15 Gbps GDRR6 192-Bit HDMI/DP PCIe 4  $379.99\\n\\n➡️ https://t.co/G67t7fPIoH\\n🛒 https://t.co/JgMUpbatNc\\n\\n#topseller #ad #stock #MSI'>, <Tweet id=1650990246182678528 text=\"RT @ahouse4all: If you'd like to help an LA mutual aid group stock up on supplies (especially the snacks + shirts + shorts + shampoo + cond…\">, <Tweet id=1650989821341384710 text='RT @MoGalore: #99cBooks\\n⭐〰️⭐〰️⭐〰️⭐〰️⭐〰️⭐〰️⭐〰️⭐\\nThe Stock Sectors To Be In: Commodities and Necessities: New for 2021\\xa0\\nby Tony Faso https://…'>, <Tweet id=1650989596287680513 text=\"RT @ahouse4all: If you'd like to help an LA mutual aid group stock up on supplies (especially the snacks + shirts + shorts + shampoo + cond…\">, <Tweet id=1650988573812838407 text='RT @URDailyHistory: 25 April 1850: Paul Julius Reuter establishes the news service, now called #Reuters, using 45 pigeons to deliver #news…'>, <Tweet id=1650988334238269442 text='RT @laurennaileenn: https://t.co/btiak7nncz\\nStarting my second year of teaching HS Biology and any help to stock up my classroom would be g…'>, <Tweet id=1650988081791795200 text='✅stock: 2023/04/25 17:20(EST)\\n\\nNZXT H5 Flow Compact ATX Mid-Tower PC Gaming Case – High Airflow Perfo $94.99\\n\\n➡️ https://t.co/qX5y2HAPd7\\n🛒 https://t.co/FOow2kQL7N\\n\\n#topseller #ad #stock #NZXT'>, <Tweet id=1650988066562281473 text='Women Long Sleeve Bodysuit\\n.\\n£5.99 &gt;&gt;&gt; FROM £19.99\\n.\\nPRICE DROP - LOW STOCK\\n.\\nhttps://t.co/HjIZSmgtqy'>, <Tweet id=1650988033712304129 text='RT @DAsteborg: Hey Asteborgian friends in the U.S ! 🇺🇲 Demons of Asteborg is now available for purchase on Amazon US! 🎉And the best part is…'>, <Tweet id=1650987185284292616 text='321Done Checklist Cards (Set of 100) 3\" x 5\" - Double Sided Index Cards - Notecards with To Do Checkboxes - Thick Card Stock H5SL8KV\\n\\nhttps://t.co/HbwTBlj7Hm'>, <Tweet id=1650987166753800193 text='Heavy Digital Smooth White Cover Card Stock, 8-1/2 x 11 Letter Size 100 lb, 270 gsm (50 Pack) LKHVGZ4\\n\\nhttps://t.co/5RFYdYMHSq'>, <Tweet id=1650986294590296065 text='Doctor Stuff - Veterinarian Forms, Feline Vet Medical Record, 2 Sided Form, 8-1/2\" x 11\", Green, 100lb Stock, 250/Pack, Tabbi JYVTUXI\\n\\nhttps://t.co/DLnQIcKq9G'>, <Tweet id=1650986191251025920 text=\"RT @ahouse4all: If you'd like to help an LA mutual aid group stock up on supplies (especially the snacks + shirts + shorts + shampoo + cond…\">, <Tweet id=1650986154613784577 text='Yay - Live your dream: livable sheds are back in stock.\\n#YOLO\\n\\nhttps://t.co/dyG72h5rUK'>, <Tweet id=1650984928073449475 text='RT @SerNudes: Muchos me preguntasteis donde conseguir este cockring, pues bien, ya lo tienen otra vez en stock. No veais lo dura que os la…'>, <Tweet id=1650984604222861313 text=\"Will Solid AWS Momentum Aid Amazon's  ( AMZN )  Q1 Earnings?\\nhttps://t.co/Pulxvc0Qfr\">, <Tweet id=1650983395965665280 text='RT @Ksjjinie_: The Astronaut\\n1. Pre-dorder only 9 days \\n2. 3-stage separated delivery, sabotaging initial sales. \\n3. Weverse US, Amazon, Ta…'>, <Tweet id=1650982654807003136 text='RT @BrokenGamezHDR_: What constraints are yall talking about? I just went to target, walmart, and amazon website and they all got xboxs. Ev…'>, <Tweet id=1650982643033604096 text=\"RT @ahouse4all: If you'd like to help an LA mutual aid group stock up on supplies (especially the snacks + shirts + shorts + shampoo + cond…\">, <Tweet id=1650981846954434560 text='@Oti09280470 Not on Europe retail and we have situation here too.\\n\\nBasically Series X has been out of stock on retail whole 2023 and next restock seems to be around May 16th.\\n\\nIt was better last Black Friday\\n\\nFortunately it can found on Amazon but it is not the Retail and may not be localized'>, <Tweet id=1650981678121140224 text='RT @BrokenGamezHDR_: What constraints are yall talking about? I just went to target, walmart, and amazon website and they all got xboxs. Ev…'>]\n"
          ]
        }
      ]
    },
    {
      "cell_type": "markdown",
      "source": [
        "We specify date and run the code above to extract the tweets"
      ],
      "metadata": {
        "id": "2biVjg-zJgBZ"
      }
    },
    {
      "cell_type": "code",
      "source": [
        "# tweets for '25-04-2023'\n",
        "tweets25 = tweets"
      ],
      "metadata": {
        "id": "cnAcsR1OQWoA"
      },
      "execution_count": 233,
      "outputs": []
    },
    {
      "cell_type": "code",
      "source": [
        "# tweets for '24-04-2023'\n",
        "tweets24 = tweets"
      ],
      "metadata": {
        "id": "5VYYKTieOyrM"
      },
      "execution_count": 229,
      "outputs": []
    },
    {
      "cell_type": "code",
      "source": [
        "# tweets for '23-04-2023'\n",
        "tweets23 = tweets"
      ],
      "metadata": {
        "id": "gjKzmG3wOrKG"
      },
      "execution_count": 225,
      "outputs": []
    },
    {
      "cell_type": "code",
      "source": [
        "# tweets for '22-04-2023'\n",
        "tweets22 = tweets"
      ],
      "metadata": {
        "id": "Eu9FgaPaOkPi"
      },
      "execution_count": 221,
      "outputs": []
    },
    {
      "cell_type": "code",
      "source": [
        "# tweets for '21-04-2023'\n",
        "tweets21 = tweets"
      ],
      "metadata": {
        "id": "IUGKoUNbOZAb"
      },
      "execution_count": 217,
      "outputs": []
    },
    {
      "cell_type": "code",
      "source": [
        "# tweets for '20-04-2023'\n",
        "tweets20 = tweets"
      ],
      "metadata": {
        "id": "mDFd-riAOQps"
      },
      "execution_count": 213,
      "outputs": []
    },
    {
      "cell_type": "code",
      "source": [
        "#https://stackoverflow.com/questions/24399820/expression-to-remove-url-links-from-twitter-tweet\n",
        "\n",
        "def remove_links(text):\n",
        "    # We remove URLs from tweet daat\n",
        "    url_pattern = re.compile(r'https?://\\S+|www\\.\\S+')\n",
        "    # We peplace all matches of the pattern with an empty string\n",
        "    cleaned_text = re.sub(url_pattern, '', text)\n",
        "    return cleaned_text"
      ],
      "metadata": {
        "id": "UEmWm-_O8G0p"
      },
      "execution_count": 59,
      "outputs": []
    },
    {
      "cell_type": "code",
      "source": [
        "# clean_data appends all the tweets and removes the links.\n",
        "\n",
        "def clean_data(tweet_data, day):\n",
        "  df = pd.DataFrame()\n",
        "  for i in range(len(tweet_data)):\n",
        "    for tweet in tweet_data[i][0]:\n",
        "      cleaned_tweet = remove_links(tweet.text)\n",
        "      df = df.append([cleaned_tweet])\n",
        "\n",
        "  df['Tweets'] = df[0]\n",
        "  df['Date'] = datetime.datetime(2023, 4, day)\n",
        "  df = df.iloc[:, 1:]\n",
        "  df = df[df['Tweets'] != np.NaN]\n",
        "\n",
        "  return df"
      ],
      "metadata": {
        "id": "0jgKuknLyZLb"
      },
      "execution_count": 252,
      "outputs": []
    },
    {
      "cell_type": "code",
      "source": [
        "df = pd.DataFrame()"
      ],
      "metadata": {
        "id": "l_MOihmeTl1A"
      },
      "execution_count": null,
      "outputs": []
    },
    {
      "cell_type": "code",
      "source": [
        "clean_tweet_data20 = clean_data(tweets20, 20)\n",
        "clean_tweet_data20 = clean_data(tweets20, 21)\n",
        "clean_tweet_data20 = clean_data(tweets20, 22)\n",
        "clean_tweet_data20 = clean_data(tweets20, 23)\n",
        "clean_tweet_data20 = clean_data(tweets20, 24)\n",
        "clean_tweet_data20 = clean_data(tweets20, 25)"
      ],
      "metadata": {
        "id": "CJImsY-WRpjc"
      },
      "execution_count": 281,
      "outputs": []
    },
    {
      "cell_type": "code",
      "source": [
        "df = df.append([clean_tweet_data20, clean_tweet_data21, clean_tweet_data22, clean_tweet_data23, clean_tweet_data24, clean_tweet_data25])"
      ],
      "metadata": {
        "id": "C59ck_26TBA4"
      },
      "execution_count": 282,
      "outputs": []
    },
    {
      "cell_type": "code",
      "source": [
        "df['Stock Name'] = 'AMZN'\n",
        "df['Company Name'] = 'Amazon.com, Inc.'"
      ],
      "metadata": {
        "id": "beVWBjH8TWyz"
      },
      "execution_count": 286,
      "outputs": []
    },
    {
      "cell_type": "code",
      "source": [
        "df.reset_index(drop=True, inplace=True)"
      ],
      "metadata": {
        "id": "pdhWS5l7V4G3"
      },
      "execution_count": 292,
      "outputs": []
    },
    {
      "cell_type": "code",
      "source": [
        "df.head()"
      ],
      "metadata": {
        "colab": {
          "base_uri": "https://localhost:8080/",
          "height": 204
        },
        "id": "kRJoAHaPWc0S",
        "outputId": "767b8a5d-569a-4d5e-e7b4-dce3020b4618"
      },
      "execution_count": 37,
      "outputs": [
        {
          "output_type": "execute_result",
          "data": {
            "text/plain": [
              "                                              Tweets        Date Stock Name  \\\n",
              "0  RT @MohamedAd_: Prime Day 2023 checklist:\\n✅ F...  2023-04-20       AMZN   \n",
              "1  🛎️ IN STOCK ALERT 🛎️\\n\\nMSI RTX 4080 16GB SUPR...  2023-04-20       AMZN   \n",
              "2  This will, of course, mean I'm less likely to ...  2023-04-20       AMZN   \n",
              "3  🛎️ IN STOCK ALERT 🛎️\\n\\nAMD Ryzen 9 7950X3D is...  2023-04-20       AMZN   \n",
              "4  RT @KathrynStarke: Stock the _____for your tea...  2023-04-20       AMZN   \n",
              "\n",
              "       Company Name  \n",
              "0  Amazon.com, Inc.  \n",
              "1  Amazon.com, Inc.  \n",
              "2  Amazon.com, Inc.  \n",
              "3  Amazon.com, Inc.  \n",
              "4  Amazon.com, Inc.  "
            ],
            "text/html": [
              "\n",
              "  <div id=\"df-024d1f14-e74e-4d46-af7a-71cbf6648970\">\n",
              "    <div class=\"colab-df-container\">\n",
              "      <div>\n",
              "<style scoped>\n",
              "    .dataframe tbody tr th:only-of-type {\n",
              "        vertical-align: middle;\n",
              "    }\n",
              "\n",
              "    .dataframe tbody tr th {\n",
              "        vertical-align: top;\n",
              "    }\n",
              "\n",
              "    .dataframe thead th {\n",
              "        text-align: right;\n",
              "    }\n",
              "</style>\n",
              "<table border=\"1\" class=\"dataframe\">\n",
              "  <thead>\n",
              "    <tr style=\"text-align: right;\">\n",
              "      <th></th>\n",
              "      <th>Tweets</th>\n",
              "      <th>Date</th>\n",
              "      <th>Stock Name</th>\n",
              "      <th>Company Name</th>\n",
              "    </tr>\n",
              "  </thead>\n",
              "  <tbody>\n",
              "    <tr>\n",
              "      <th>0</th>\n",
              "      <td>RT @MohamedAd_: Prime Day 2023 checklist:\\n✅ F...</td>\n",
              "      <td>2023-04-20</td>\n",
              "      <td>AMZN</td>\n",
              "      <td>Amazon.com, Inc.</td>\n",
              "    </tr>\n",
              "    <tr>\n",
              "      <th>1</th>\n",
              "      <td>🛎️ IN STOCK ALERT 🛎️\\n\\nMSI RTX 4080 16GB SUPR...</td>\n",
              "      <td>2023-04-20</td>\n",
              "      <td>AMZN</td>\n",
              "      <td>Amazon.com, Inc.</td>\n",
              "    </tr>\n",
              "    <tr>\n",
              "      <th>2</th>\n",
              "      <td>This will, of course, mean I'm less likely to ...</td>\n",
              "      <td>2023-04-20</td>\n",
              "      <td>AMZN</td>\n",
              "      <td>Amazon.com, Inc.</td>\n",
              "    </tr>\n",
              "    <tr>\n",
              "      <th>3</th>\n",
              "      <td>🛎️ IN STOCK ALERT 🛎️\\n\\nAMD Ryzen 9 7950X3D is...</td>\n",
              "      <td>2023-04-20</td>\n",
              "      <td>AMZN</td>\n",
              "      <td>Amazon.com, Inc.</td>\n",
              "    </tr>\n",
              "    <tr>\n",
              "      <th>4</th>\n",
              "      <td>RT @KathrynStarke: Stock the _____for your tea...</td>\n",
              "      <td>2023-04-20</td>\n",
              "      <td>AMZN</td>\n",
              "      <td>Amazon.com, Inc.</td>\n",
              "    </tr>\n",
              "  </tbody>\n",
              "</table>\n",
              "</div>\n",
              "      <button class=\"colab-df-convert\" onclick=\"convertToInteractive('df-024d1f14-e74e-4d46-af7a-71cbf6648970')\"\n",
              "              title=\"Convert this dataframe to an interactive table.\"\n",
              "              style=\"display:none;\">\n",
              "        \n",
              "  <svg xmlns=\"http://www.w3.org/2000/svg\" height=\"24px\"viewBox=\"0 0 24 24\"\n",
              "       width=\"24px\">\n",
              "    <path d=\"M0 0h24v24H0V0z\" fill=\"none\"/>\n",
              "    <path d=\"M18.56 5.44l.94 2.06.94-2.06 2.06-.94-2.06-.94-.94-2.06-.94 2.06-2.06.94zm-11 1L8.5 8.5l.94-2.06 2.06-.94-2.06-.94L8.5 2.5l-.94 2.06-2.06.94zm10 10l.94 2.06.94-2.06 2.06-.94-2.06-.94-.94-2.06-.94 2.06-2.06.94z\"/><path d=\"M17.41 7.96l-1.37-1.37c-.4-.4-.92-.59-1.43-.59-.52 0-1.04.2-1.43.59L10.3 9.45l-7.72 7.72c-.78.78-.78 2.05 0 2.83L4 21.41c.39.39.9.59 1.41.59.51 0 1.02-.2 1.41-.59l7.78-7.78 2.81-2.81c.8-.78.8-2.07 0-2.86zM5.41 20L4 18.59l7.72-7.72 1.47 1.35L5.41 20z\"/>\n",
              "  </svg>\n",
              "      </button>\n",
              "      \n",
              "  <style>\n",
              "    .colab-df-container {\n",
              "      display:flex;\n",
              "      flex-wrap:wrap;\n",
              "      gap: 12px;\n",
              "    }\n",
              "\n",
              "    .colab-df-convert {\n",
              "      background-color: #E8F0FE;\n",
              "      border: none;\n",
              "      border-radius: 50%;\n",
              "      cursor: pointer;\n",
              "      display: none;\n",
              "      fill: #1967D2;\n",
              "      height: 32px;\n",
              "      padding: 0 0 0 0;\n",
              "      width: 32px;\n",
              "    }\n",
              "\n",
              "    .colab-df-convert:hover {\n",
              "      background-color: #E2EBFA;\n",
              "      box-shadow: 0px 1px 2px rgba(60, 64, 67, 0.3), 0px 1px 3px 1px rgba(60, 64, 67, 0.15);\n",
              "      fill: #174EA6;\n",
              "    }\n",
              "\n",
              "    [theme=dark] .colab-df-convert {\n",
              "      background-color: #3B4455;\n",
              "      fill: #D2E3FC;\n",
              "    }\n",
              "\n",
              "    [theme=dark] .colab-df-convert:hover {\n",
              "      background-color: #434B5C;\n",
              "      box-shadow: 0px 1px 3px 1px rgba(0, 0, 0, 0.15);\n",
              "      filter: drop-shadow(0px 1px 2px rgba(0, 0, 0, 0.3));\n",
              "      fill: #FFFFFF;\n",
              "    }\n",
              "  </style>\n",
              "\n",
              "      <script>\n",
              "        const buttonEl =\n",
              "          document.querySelector('#df-024d1f14-e74e-4d46-af7a-71cbf6648970 button.colab-df-convert');\n",
              "        buttonEl.style.display =\n",
              "          google.colab.kernel.accessAllowed ? 'block' : 'none';\n",
              "\n",
              "        async function convertToInteractive(key) {\n",
              "          const element = document.querySelector('#df-024d1f14-e74e-4d46-af7a-71cbf6648970');\n",
              "          const dataTable =\n",
              "            await google.colab.kernel.invokeFunction('convertToInteractive',\n",
              "                                                     [key], {});\n",
              "          if (!dataTable) return;\n",
              "\n",
              "          const docLinkHtml = 'Like what you see? Visit the ' +\n",
              "            '<a target=\"_blank\" href=https://colab.research.google.com/notebooks/data_table.ipynb>data table notebook</a>'\n",
              "            + ' to learn more about interactive tables.';\n",
              "          element.innerHTML = '';\n",
              "          dataTable['output_type'] = 'display_data';\n",
              "          await google.colab.output.renderOutput(dataTable, element);\n",
              "          const docLink = document.createElement('div');\n",
              "          docLink.innerHTML = docLinkHtml;\n",
              "          element.appendChild(docLink);\n",
              "        }\n",
              "      </script>\n",
              "    </div>\n",
              "  </div>\n",
              "  "
            ]
          },
          "metadata": {},
          "execution_count": 37
        }
      ]
    },
    {
      "cell_type": "code",
      "source": [
        "df.tail()"
      ],
      "metadata": {
        "colab": {
          "base_uri": "https://localhost:8080/",
          "height": 204
        },
        "id": "4e6sD0JmnLzA",
        "outputId": "5754329d-d476-4c22-8c6c-95520d54de0e"
      },
      "execution_count": 38,
      "outputs": [
        {
          "output_type": "execute_result",
          "data": {
            "text/plain": [
              "                                                 Tweets        Date  \\\n",
              "7127  RT @masonmalonecom: Stock up for summer readin...  2023-04-25   \n",
              "7128  RT @fieldsofprofit: AMAZON SOURCING CHECKLIST\\...  2023-04-25   \n",
              "7129  ✅stock: 2023/04/24 19:00(EST)\\n\\nNZXT H9 Flow ...  2023-04-25   \n",
              "7130  Amazon PS5 Stock, Models &amp; Price : 25 Apri...  2023-04-25   \n",
              "7131  「【 [オリジナル・カラオケ付] &lt;2023ラッカーマスターサウンド&gt; [2CD...  2023-04-25   \n",
              "\n",
              "     Stock Name      Company Name  \n",
              "7127       AMZN  Amazon.com, Inc.  \n",
              "7128       AMZN  Amazon.com, Inc.  \n",
              "7129       AMZN  Amazon.com, Inc.  \n",
              "7130       AMZN  Amazon.com, Inc.  \n",
              "7131       AMZN  Amazon.com, Inc.  "
            ],
            "text/html": [
              "\n",
              "  <div id=\"df-787f893d-35b4-4a78-85cd-856744088bc7\">\n",
              "    <div class=\"colab-df-container\">\n",
              "      <div>\n",
              "<style scoped>\n",
              "    .dataframe tbody tr th:only-of-type {\n",
              "        vertical-align: middle;\n",
              "    }\n",
              "\n",
              "    .dataframe tbody tr th {\n",
              "        vertical-align: top;\n",
              "    }\n",
              "\n",
              "    .dataframe thead th {\n",
              "        text-align: right;\n",
              "    }\n",
              "</style>\n",
              "<table border=\"1\" class=\"dataframe\">\n",
              "  <thead>\n",
              "    <tr style=\"text-align: right;\">\n",
              "      <th></th>\n",
              "      <th>Tweets</th>\n",
              "      <th>Date</th>\n",
              "      <th>Stock Name</th>\n",
              "      <th>Company Name</th>\n",
              "    </tr>\n",
              "  </thead>\n",
              "  <tbody>\n",
              "    <tr>\n",
              "      <th>7127</th>\n",
              "      <td>RT @masonmalonecom: Stock up for summer readin...</td>\n",
              "      <td>2023-04-25</td>\n",
              "      <td>AMZN</td>\n",
              "      <td>Amazon.com, Inc.</td>\n",
              "    </tr>\n",
              "    <tr>\n",
              "      <th>7128</th>\n",
              "      <td>RT @fieldsofprofit: AMAZON SOURCING CHECKLIST\\...</td>\n",
              "      <td>2023-04-25</td>\n",
              "      <td>AMZN</td>\n",
              "      <td>Amazon.com, Inc.</td>\n",
              "    </tr>\n",
              "    <tr>\n",
              "      <th>7129</th>\n",
              "      <td>✅stock: 2023/04/24 19:00(EST)\\n\\nNZXT H9 Flow ...</td>\n",
              "      <td>2023-04-25</td>\n",
              "      <td>AMZN</td>\n",
              "      <td>Amazon.com, Inc.</td>\n",
              "    </tr>\n",
              "    <tr>\n",
              "      <th>7130</th>\n",
              "      <td>Amazon PS5 Stock, Models &amp;amp; Price : 25 Apri...</td>\n",
              "      <td>2023-04-25</td>\n",
              "      <td>AMZN</td>\n",
              "      <td>Amazon.com, Inc.</td>\n",
              "    </tr>\n",
              "    <tr>\n",
              "      <th>7131</th>\n",
              "      <td>「【 [オリジナル・カラオケ付] &amp;lt;2023ラッカーマスターサウンド&amp;gt; [2CD...</td>\n",
              "      <td>2023-04-25</td>\n",
              "      <td>AMZN</td>\n",
              "      <td>Amazon.com, Inc.</td>\n",
              "    </tr>\n",
              "  </tbody>\n",
              "</table>\n",
              "</div>\n",
              "      <button class=\"colab-df-convert\" onclick=\"convertToInteractive('df-787f893d-35b4-4a78-85cd-856744088bc7')\"\n",
              "              title=\"Convert this dataframe to an interactive table.\"\n",
              "              style=\"display:none;\">\n",
              "        \n",
              "  <svg xmlns=\"http://www.w3.org/2000/svg\" height=\"24px\"viewBox=\"0 0 24 24\"\n",
              "       width=\"24px\">\n",
              "    <path d=\"M0 0h24v24H0V0z\" fill=\"none\"/>\n",
              "    <path d=\"M18.56 5.44l.94 2.06.94-2.06 2.06-.94-2.06-.94-.94-2.06-.94 2.06-2.06.94zm-11 1L8.5 8.5l.94-2.06 2.06-.94-2.06-.94L8.5 2.5l-.94 2.06-2.06.94zm10 10l.94 2.06.94-2.06 2.06-.94-2.06-.94-.94-2.06-.94 2.06-2.06.94z\"/><path d=\"M17.41 7.96l-1.37-1.37c-.4-.4-.92-.59-1.43-.59-.52 0-1.04.2-1.43.59L10.3 9.45l-7.72 7.72c-.78.78-.78 2.05 0 2.83L4 21.41c.39.39.9.59 1.41.59.51 0 1.02-.2 1.41-.59l7.78-7.78 2.81-2.81c.8-.78.8-2.07 0-2.86zM5.41 20L4 18.59l7.72-7.72 1.47 1.35L5.41 20z\"/>\n",
              "  </svg>\n",
              "      </button>\n",
              "      \n",
              "  <style>\n",
              "    .colab-df-container {\n",
              "      display:flex;\n",
              "      flex-wrap:wrap;\n",
              "      gap: 12px;\n",
              "    }\n",
              "\n",
              "    .colab-df-convert {\n",
              "      background-color: #E8F0FE;\n",
              "      border: none;\n",
              "      border-radius: 50%;\n",
              "      cursor: pointer;\n",
              "      display: none;\n",
              "      fill: #1967D2;\n",
              "      height: 32px;\n",
              "      padding: 0 0 0 0;\n",
              "      width: 32px;\n",
              "    }\n",
              "\n",
              "    .colab-df-convert:hover {\n",
              "      background-color: #E2EBFA;\n",
              "      box-shadow: 0px 1px 2px rgba(60, 64, 67, 0.3), 0px 1px 3px 1px rgba(60, 64, 67, 0.15);\n",
              "      fill: #174EA6;\n",
              "    }\n",
              "\n",
              "    [theme=dark] .colab-df-convert {\n",
              "      background-color: #3B4455;\n",
              "      fill: #D2E3FC;\n",
              "    }\n",
              "\n",
              "    [theme=dark] .colab-df-convert:hover {\n",
              "      background-color: #434B5C;\n",
              "      box-shadow: 0px 1px 3px 1px rgba(0, 0, 0, 0.15);\n",
              "      filter: drop-shadow(0px 1px 2px rgba(0, 0, 0, 0.3));\n",
              "      fill: #FFFFFF;\n",
              "    }\n",
              "  </style>\n",
              "\n",
              "      <script>\n",
              "        const buttonEl =\n",
              "          document.querySelector('#df-787f893d-35b4-4a78-85cd-856744088bc7 button.colab-df-convert');\n",
              "        buttonEl.style.display =\n",
              "          google.colab.kernel.accessAllowed ? 'block' : 'none';\n",
              "\n",
              "        async function convertToInteractive(key) {\n",
              "          const element = document.querySelector('#df-787f893d-35b4-4a78-85cd-856744088bc7');\n",
              "          const dataTable =\n",
              "            await google.colab.kernel.invokeFunction('convertToInteractive',\n",
              "                                                     [key], {});\n",
              "          if (!dataTable) return;\n",
              "\n",
              "          const docLinkHtml = 'Like what you see? Visit the ' +\n",
              "            '<a target=\"_blank\" href=https://colab.research.google.com/notebooks/data_table.ipynb>data table notebook</a>'\n",
              "            + ' to learn more about interactive tables.';\n",
              "          element.innerHTML = '';\n",
              "          dataTable['output_type'] = 'display_data';\n",
              "          await google.colab.output.renderOutput(dataTable, element);\n",
              "          const docLink = document.createElement('div');\n",
              "          docLink.innerHTML = docLinkHtml;\n",
              "          element.appendChild(docLink);\n",
              "        }\n",
              "      </script>\n",
              "    </div>\n",
              "  </div>\n",
              "  "
            ]
          },
          "metadata": {},
          "execution_count": 38
        }
      ]
    },
    {
      "cell_type": "code",
      "source": [
        "# we save twitter dataset\n",
        "df.to_csv('AMZN Tweets 20-04-2023 to 25-04-2023.csv', index=False)"
      ],
      "metadata": {
        "id": "esM5954j9xm5"
      },
      "execution_count": 42,
      "outputs": []
    },
    {
      "cell_type": "markdown",
      "source": [
        "## Get Historical Data"
      ],
      "metadata": {
        "id": "__3vR2PputOX"
      }
    },
    {
      "cell_type": "code",
      "source": [
        "# Obtaining historical data for 'AMZN'\n",
        "startdate = pd.to_datetime('2023-03-01').date()\n",
        "enddate = pd.to_datetime('2023-04-26').date()\n",
        "stock_df = yf.download('AMZN', start = startdate, end = enddate)"
      ],
      "metadata": {
        "colab": {
          "base_uri": "https://localhost:8080/"
        },
        "id": "5EE2WIo_XjoW",
        "outputId": "71fcec1c-857b-413c-d57d-0aa330a9d56b"
      },
      "execution_count": 21,
      "outputs": [
        {
          "output_type": "stream",
          "name": "stdout",
          "text": [
            "\r[*********************100%***********************]  1 of 1 completed\n"
          ]
        }
      ]
    },
    {
      "cell_type": "code",
      "source": [
        "stock_df['Stock Name'] = 'AMZN'\n",
        "stock_df = stock_df.reset_index()\n",
        "stock_df = stock_df.rename(columns={'index': 'Date'})"
      ],
      "metadata": {
        "id": "xc370nDOh8wO"
      },
      "execution_count": 22,
      "outputs": []
    },
    {
      "cell_type": "code",
      "source": [
        "stock_df.tail()"
      ],
      "metadata": {
        "colab": {
          "base_uri": "https://localhost:8080/",
          "height": 204
        },
        "id": "v8wuaioujwpJ",
        "outputId": "3c955082-895f-4392-dde1-5f8d0dde4529"
      },
      "execution_count": 23,
      "outputs": [
        {
          "output_type": "execute_result",
          "data": {
            "text/plain": [
              "         Date        Open        High         Low       Close   Adj Close  \\\n",
              "34 2023-04-19  101.580002  105.120003  101.389999  104.300003  104.300003   \n",
              "35 2023-04-20  103.529999  105.250000  103.209999  103.809998  103.809998   \n",
              "36 2023-04-21  106.099998  108.150002  105.080002  106.959999  106.959999   \n",
              "37 2023-04-24  107.660004  109.230003  105.070000  106.209999  106.209999   \n",
              "38 2023-04-25  104.910004  105.449997  102.449997  102.570000  102.570000   \n",
              "\n",
              "      Volume Stock Name  \n",
              "34  58398900       AMZN  \n",
              "35  57696900       AMZN  \n",
              "36  86689700       AMZN  \n",
              "37  69575600       AMZN  \n",
              "38  65026800       AMZN  "
            ],
            "text/html": [
              "\n",
              "  <div id=\"df-fb2d7248-7353-41a0-b6d1-cb3086a1713f\">\n",
              "    <div class=\"colab-df-container\">\n",
              "      <div>\n",
              "<style scoped>\n",
              "    .dataframe tbody tr th:only-of-type {\n",
              "        vertical-align: middle;\n",
              "    }\n",
              "\n",
              "    .dataframe tbody tr th {\n",
              "        vertical-align: top;\n",
              "    }\n",
              "\n",
              "    .dataframe thead th {\n",
              "        text-align: right;\n",
              "    }\n",
              "</style>\n",
              "<table border=\"1\" class=\"dataframe\">\n",
              "  <thead>\n",
              "    <tr style=\"text-align: right;\">\n",
              "      <th></th>\n",
              "      <th>Date</th>\n",
              "      <th>Open</th>\n",
              "      <th>High</th>\n",
              "      <th>Low</th>\n",
              "      <th>Close</th>\n",
              "      <th>Adj Close</th>\n",
              "      <th>Volume</th>\n",
              "      <th>Stock Name</th>\n",
              "    </tr>\n",
              "  </thead>\n",
              "  <tbody>\n",
              "    <tr>\n",
              "      <th>34</th>\n",
              "      <td>2023-04-19</td>\n",
              "      <td>101.580002</td>\n",
              "      <td>105.120003</td>\n",
              "      <td>101.389999</td>\n",
              "      <td>104.300003</td>\n",
              "      <td>104.300003</td>\n",
              "      <td>58398900</td>\n",
              "      <td>AMZN</td>\n",
              "    </tr>\n",
              "    <tr>\n",
              "      <th>35</th>\n",
              "      <td>2023-04-20</td>\n",
              "      <td>103.529999</td>\n",
              "      <td>105.250000</td>\n",
              "      <td>103.209999</td>\n",
              "      <td>103.809998</td>\n",
              "      <td>103.809998</td>\n",
              "      <td>57696900</td>\n",
              "      <td>AMZN</td>\n",
              "    </tr>\n",
              "    <tr>\n",
              "      <th>36</th>\n",
              "      <td>2023-04-21</td>\n",
              "      <td>106.099998</td>\n",
              "      <td>108.150002</td>\n",
              "      <td>105.080002</td>\n",
              "      <td>106.959999</td>\n",
              "      <td>106.959999</td>\n",
              "      <td>86689700</td>\n",
              "      <td>AMZN</td>\n",
              "    </tr>\n",
              "    <tr>\n",
              "      <th>37</th>\n",
              "      <td>2023-04-24</td>\n",
              "      <td>107.660004</td>\n",
              "      <td>109.230003</td>\n",
              "      <td>105.070000</td>\n",
              "      <td>106.209999</td>\n",
              "      <td>106.209999</td>\n",
              "      <td>69575600</td>\n",
              "      <td>AMZN</td>\n",
              "    </tr>\n",
              "    <tr>\n",
              "      <th>38</th>\n",
              "      <td>2023-04-25</td>\n",
              "      <td>104.910004</td>\n",
              "      <td>105.449997</td>\n",
              "      <td>102.449997</td>\n",
              "      <td>102.570000</td>\n",
              "      <td>102.570000</td>\n",
              "      <td>65026800</td>\n",
              "      <td>AMZN</td>\n",
              "    </tr>\n",
              "  </tbody>\n",
              "</table>\n",
              "</div>\n",
              "      <button class=\"colab-df-convert\" onclick=\"convertToInteractive('df-fb2d7248-7353-41a0-b6d1-cb3086a1713f')\"\n",
              "              title=\"Convert this dataframe to an interactive table.\"\n",
              "              style=\"display:none;\">\n",
              "        \n",
              "  <svg xmlns=\"http://www.w3.org/2000/svg\" height=\"24px\"viewBox=\"0 0 24 24\"\n",
              "       width=\"24px\">\n",
              "    <path d=\"M0 0h24v24H0V0z\" fill=\"none\"/>\n",
              "    <path d=\"M18.56 5.44l.94 2.06.94-2.06 2.06-.94-2.06-.94-.94-2.06-.94 2.06-2.06.94zm-11 1L8.5 8.5l.94-2.06 2.06-.94-2.06-.94L8.5 2.5l-.94 2.06-2.06.94zm10 10l.94 2.06.94-2.06 2.06-.94-2.06-.94-.94-2.06-.94 2.06-2.06.94z\"/><path d=\"M17.41 7.96l-1.37-1.37c-.4-.4-.92-.59-1.43-.59-.52 0-1.04.2-1.43.59L10.3 9.45l-7.72 7.72c-.78.78-.78 2.05 0 2.83L4 21.41c.39.39.9.59 1.41.59.51 0 1.02-.2 1.41-.59l7.78-7.78 2.81-2.81c.8-.78.8-2.07 0-2.86zM5.41 20L4 18.59l7.72-7.72 1.47 1.35L5.41 20z\"/>\n",
              "  </svg>\n",
              "      </button>\n",
              "      \n",
              "  <style>\n",
              "    .colab-df-container {\n",
              "      display:flex;\n",
              "      flex-wrap:wrap;\n",
              "      gap: 12px;\n",
              "    }\n",
              "\n",
              "    .colab-df-convert {\n",
              "      background-color: #E8F0FE;\n",
              "      border: none;\n",
              "      border-radius: 50%;\n",
              "      cursor: pointer;\n",
              "      display: none;\n",
              "      fill: #1967D2;\n",
              "      height: 32px;\n",
              "      padding: 0 0 0 0;\n",
              "      width: 32px;\n",
              "    }\n",
              "\n",
              "    .colab-df-convert:hover {\n",
              "      background-color: #E2EBFA;\n",
              "      box-shadow: 0px 1px 2px rgba(60, 64, 67, 0.3), 0px 1px 3px 1px rgba(60, 64, 67, 0.15);\n",
              "      fill: #174EA6;\n",
              "    }\n",
              "\n",
              "    [theme=dark] .colab-df-convert {\n",
              "      background-color: #3B4455;\n",
              "      fill: #D2E3FC;\n",
              "    }\n",
              "\n",
              "    [theme=dark] .colab-df-convert:hover {\n",
              "      background-color: #434B5C;\n",
              "      box-shadow: 0px 1px 3px 1px rgba(0, 0, 0, 0.15);\n",
              "      filter: drop-shadow(0px 1px 2px rgba(0, 0, 0, 0.3));\n",
              "      fill: #FFFFFF;\n",
              "    }\n",
              "  </style>\n",
              "\n",
              "      <script>\n",
              "        const buttonEl =\n",
              "          document.querySelector('#df-fb2d7248-7353-41a0-b6d1-cb3086a1713f button.colab-df-convert');\n",
              "        buttonEl.style.display =\n",
              "          google.colab.kernel.accessAllowed ? 'block' : 'none';\n",
              "\n",
              "        async function convertToInteractive(key) {\n",
              "          const element = document.querySelector('#df-fb2d7248-7353-41a0-b6d1-cb3086a1713f');\n",
              "          const dataTable =\n",
              "            await google.colab.kernel.invokeFunction('convertToInteractive',\n",
              "                                                     [key], {});\n",
              "          if (!dataTable) return;\n",
              "\n",
              "          const docLinkHtml = 'Like what you see? Visit the ' +\n",
              "            '<a target=\"_blank\" href=https://colab.research.google.com/notebooks/data_table.ipynb>data table notebook</a>'\n",
              "            + ' to learn more about interactive tables.';\n",
              "          element.innerHTML = '';\n",
              "          dataTable['output_type'] = 'display_data';\n",
              "          await google.colab.output.renderOutput(dataTable, element);\n",
              "          const docLink = document.createElement('div');\n",
              "          docLink.innerHTML = docLinkHtml;\n",
              "          element.appendChild(docLink);\n",
              "        }\n",
              "      </script>\n",
              "    </div>\n",
              "  </div>\n",
              "  "
            ]
          },
          "metadata": {},
          "execution_count": 23
        }
      ]
    },
    {
      "cell_type": "markdown",
      "source": [
        "## Prepare Data"
      ],
      "metadata": {
        "id": "yi1yDvjAvGNp"
      }
    },
    {
      "cell_type": "markdown",
      "source": [
        "The get_clean_data function is a slight modification of the same clean_data function used in GAN_for_10_Stocks_Final.ipynb. \n",
        "\n",
        "The difference is that we derived technical indicators for stock_df before merging with twitter data."
      ],
      "metadata": {
        "id": "KOlWu8zXL8k0"
      }
    },
    {
      "cell_type": "code",
      "source": [
        "def get_clean_data(tweet_data, stock_data, stock_name):\n",
        "  stock_name = stock_name\n",
        "  df = tweet_data[tweet_data['Stock Name'] == stock_name]\n",
        "  df = df.dropna(subset=['Tweets'])\n",
        "  sent_df = df.copy()\n",
        "  sent_df[\"sentiment_score\"] = ''\n",
        "  sent_df[\"Negative\"] = ''\n",
        "  sent_df[\"Neutral\"] = ''\n",
        "  sent_df[\"Positive\"] = ''\n",
        "\n",
        "  %time\n",
        "  sentiment_analyzer = SentimentIntensityAnalyzer()\n",
        "  for indx, row in sent_df.T.iteritems():\n",
        "      try:\n",
        "          sentence_i = unicodedata.normalize('NFKD', sent_df.loc[indx, 'Tweets'])\n",
        "          sentence_sentiment = sentiment_analyzer.polarity_scores(sentence_i)\n",
        "          sent_df.at[indx, 'sentiment_score'] = sentence_sentiment['compound']\n",
        "          sent_df.at[indx, 'Negative'] = sentence_sentiment['neg']\n",
        "          sent_df.at[indx, 'Neutral'] = sentence_sentiment['neu']\n",
        "          sent_df.at[indx, 'Positive'] = sentence_sentiment['pos']\n",
        "      except TypeError:\n",
        "          print (sent_df.loc[indx, 'Tweets'])\n",
        "          print (indx)\n",
        "          break\n",
        "\n",
        "  sent_df['Date'] = pd.to_datetime(sent_df['Date'])\n",
        "  sent_df['Date'] = sent_df['Date'].dt.date\n",
        "  sent_df = sent_df.drop(columns=['Negative', 'Positive', 'Neutral', 'Company Name'])\n",
        "  twitter_df = sent_df.groupby(['Date']).mean()\n",
        "\n",
        "  twitter_df = twitter_df.reset_index()\n",
        "\n",
        "  stock_data['Date'] = pd.to_datetime(stock_data['Date'])\n",
        "  stock_data['Date'] = stock_data['Date'].dt.date\n",
        "\n",
        "  def get_tech_ind(data):\n",
        "\n",
        "    # Adding Simple Moving Average\n",
        "    data['MA7'] = ta.trend.sma_indicator(close = data.iloc[:,5], window = 7)\n",
        "    data['MA20'] = ta.trend.sma_indicator(close = data.iloc[:,5], window = 20)\n",
        "    \n",
        "    # Adding MACD\n",
        "    data['MACD'] = ta.trend.macd(close = data.iloc[:,5])\n",
        "\n",
        "    # Adding Rate of Change\n",
        "    data['ROC'] = ta.momentum.roc(close = data.iloc[:,5], window = 12)\n",
        "\n",
        "    # Adding Exponential Moving Average\n",
        "    data['EMA'] = ta.trend.ema_indicator(close = data.iloc[:,5])\n",
        "\n",
        "    # Adding Bollinger Bands\n",
        "    data['Bollinger_Bands'] = ta.volatility.BollingerBands(close = data.iloc[:,5]).bollinger_mavg()\n",
        "\n",
        "    # Adding LogMomentum\n",
        "    data['Log_Momentum'] = np.log(data.iloc[:,5]-1)\n",
        "\n",
        "    return data\n",
        "\n",
        "  tech_df = pd.DataFrame()\n",
        "\n",
        "  df_1 = stock_data[stock_data['Stock Name'] == stock_name]\n",
        "  df_2 = get_tech_ind(df_1)\n",
        "  df_2 = df_2.iloc[25:,].reset_index(drop=True)\n",
        "  tech_df = pd.concat([tech_df,df_2], axis = 0)\n",
        "\n",
        "  tech_df.iloc[:, 1:] = pd.concat([tech_df.iloc[:, 1:].ffill()])\n",
        "  final_df = tech_df.merge(twitter_df, on = ['Date'], how = 'left')\n",
        "  final_df = final_df.loc[:,['Date', 'Stock Name', 'sentiment_score', 'Open', 'High', 'Low', 'Close', 'Adj Close', 'Volume','MA7', 'MA20', 'MACD', \n",
        "                             'ROC', 'EMA', 'Bollinger_Bands', 'Log_Momentum']]\n",
        "  final_df.reset_index(inplace = True, drop = True)\n",
        "\n",
        "  final_df = final_df.dropna(subset=['sentiment_score'])\n",
        "\n",
        "  print(final_df.head())\n",
        "  \n",
        "  cols = 0\n",
        "  rows = 0 \n",
        "\n",
        "  fig, ax = plt.subplots(1, 1, figsize = (20,8), tight_layout = True)\n",
        "\n",
        "  for tic in list(final_df['Stock Name'].unique()):\n",
        "      ax.plot(final_df.loc[final_df['Stock Name'] == tic, 'Date'] ,final_df.loc[final_df['Stock Name'] == tic,'Close'], color='#008B8B')\n",
        "      ax.set(xlabel='Date', ylabel='USD', title=f'{tic} Stock Price')\n",
        "      ax.xaxis.set_major_formatter(DateFormatter('%D'))\n",
        "\n",
        "  plt.show()\n",
        "  \n",
        "  cols = 0\n",
        "  rows = 0 \n",
        "\n",
        "  fig, ax = plt.subplots(1, 1, figsize = (20,8), tight_layout = True);\n",
        "\n",
        "  for tic in list(final_df['Stock Name'].unique()):\n",
        "    \n",
        "      ax.plot(final_df.loc[final_df['Stock Name'] == tic, 'Date'] ,final_df.loc[final_df['Stock Name'] == tic,'MA7'], color='g', linestyle='--', label='Moving Average (7 days)');\n",
        "      ax.plot(final_df.loc[final_df['Stock Name'] == tic, 'Date'] ,final_df.loc[final_df['Stock Name'] == tic,'Close'], color='#6A5ACD', label='Closing Price');\n",
        "      ax.plot(final_df.loc[final_df['Stock Name'] == tic, 'Date'] ,final_df.loc[final_df['Stock Name'] == tic,'MA20'], color='r', linestyle='-.', label='Moving Average (20 days)');\n",
        "      ax.set(xlabel='Date', ylabel='USD', title=f'{tic} Technical Indicators');\n",
        "      ax.xaxis.set_major_formatter(DateFormatter('%D'));\n",
        "      ax.legend();\n",
        "\n",
        "\n",
        "  plt.show();\n",
        "\n",
        "  final_df = final_df.drop(['Stock Name'], axis = 1)\n",
        "  date_col = final_df['Date']\n",
        "  final_df = final_df.set_index('Date')\n",
        "  final_df = final_df.sort_values('Date')\n",
        "  final_df.reset_index(inplace=True,drop=True)\n",
        "\n",
        "  X = final_df.drop(['Adj Close'], axis = 1)\n",
        "  y = pd.DataFrame(final_df['Adj Close'])\n",
        "\n",
        "  return X, y, date_col\n",
        "\n",
        "\n",
        "def data_preprocess(X, y, days):\n",
        "  X_scaler = MinMaxScaler()\n",
        "  X_scaled_df = X_scaler.fit_transform(X)\n",
        "  print(X_scaled_df.shape)\n",
        "\n",
        "  days_to_consider = days\n",
        "  n_features = X_scaled_df.shape[1]\n",
        "\n",
        "  def x_y_predictions(x_data):\n",
        "    X_data = []\n",
        "\n",
        "    for i in range(0,len(x_data),1):\n",
        "      X = x_data[i: i + days_to_consider][:,:]\n",
        "      if len(X) == days_to_consider:\n",
        "        X_data.append(X)\n",
        "\n",
        "    return np.array(X_data)\n",
        "\n",
        "  X = x_y_predictions(X_scaled_df)\n",
        "\n",
        "  return X"
      ],
      "metadata": {
        "id": "GdKE8ldDap1f"
      },
      "execution_count": 11,
      "outputs": []
    },
    {
      "cell_type": "code",
      "source": [
        "X, y, date = get_clean_data(df, stock_df, 'AMZN')"
      ],
      "metadata": {
        "colab": {
          "base_uri": "https://localhost:8080/",
          "height": 1000
        },
        "id": "Z7awseXig0k6",
        "outputId": "11e75f18-53bc-4826-de99-edd673dbb515"
      },
      "execution_count": 12,
      "outputs": [
        {
          "output_type": "stream",
          "name": "stdout",
          "text": [
            "CPU times: user 5 µs, sys: 0 ns, total: 5 µs\n",
            "Wall time: 8.58 µs\n",
            "          Date Stock Name  sentiment_score        Open        High  \\\n",
            "10  2023-04-20       AMZN         0.113389  103.529999  105.250000   \n",
            "11  2023-04-21       AMZN         0.142138  106.099998  108.150002   \n",
            "12  2023-04-24       AMZN         0.158337  107.660004  109.230003   \n",
            "13  2023-04-25       AMZN         0.176680  104.910004  105.449997   \n",
            "\n",
            "           Low       Close   Adj Close    Volume         MA7      MA20  \\\n",
            "10  103.209999  103.809998  103.809998  57696900  102.270001  101.2580   \n",
            "11  105.080002  106.959999  106.959999  86689700  103.574286  101.6705   \n",
            "12  105.070000  106.209999  106.209999  69575600  104.118572  102.0745   \n",
            "13  102.449997  102.570000  102.570000  65026800  104.127143  102.3010   \n",
            "\n",
            "        MACD       ROC         EMA  Bollinger_Bands  Log_Momentum  \n",
            "10  1.791504  1.367048  102.126625         101.2580      4.632883  \n",
            "11  2.044368  2.895625  102.870221         101.6705      4.663062  \n",
            "12  2.159354  5.054402  103.384033         102.0745      4.655958  \n",
            "13  1.934465  0.499708  103.258797         102.3010      4.620748  \n"
          ]
        },
        {
          "output_type": "display_data",
          "data": {
            "text/plain": [
              "<Figure size 2000x800 with 1 Axes>"
            ],
            "image/png": "[encoded data removed]"
          },
          "metadata": {}
        },
        {
          "output_type": "display_data",
          "data": {
            "text/plain": [
              "<Figure size 2000x800 with 1 Axes>"
            ],
            "image/png": "[encoded data removed]"
          },
          "metadata": {}
        }
      ]
    },
    {
      "cell_type": "markdown",
      "source": [
        "## GAN Model Evaluation "
      ],
      "metadata": {
        "id": "ZIGshwMevd3K"
      }
    },
    {
      "cell_type": "code",
      "source": [
        "print(X)"
      ],
      "metadata": {
        "colab": {
          "base_uri": "https://localhost:8080/"
        },
        "id": "ocnvHtF9kXlQ",
        "outputId": "a4e6b5f9-734a-4062-e70d-86deee7455ba"
      },
      "execution_count": 13,
      "outputs": [
        {
          "output_type": "stream",
          "name": "stdout",
          "text": [
            "   sentiment_score        Open        High         Low       Close    Volume  \\\n",
            "0         0.113389  103.529999  105.250000  103.209999  103.809998  57696900   \n",
            "1         0.142138  106.099998  108.150002  105.080002  106.959999  86689700   \n",
            "2         0.158337  107.660004  109.230003  105.070000  106.209999  69575600   \n",
            "3         0.176680  104.910004  105.449997  102.449997  102.570000  65026800   \n",
            "\n",
            "          MA7      MA20      MACD       ROC         EMA  Bollinger_Bands  \\\n",
            "0  102.270001  101.2580  1.791504  1.367048  102.126625         101.2580   \n",
            "1  103.574286  101.6705  2.044368  2.895625  102.870221         101.6705   \n",
            "2  104.118572  102.0745  2.159354  5.054402  103.384033         102.0745   \n",
            "3  104.127143  102.3010  1.934465  0.499708  103.258797         102.3010   \n",
            "\n",
            "   Log_Momentum  \n",
            "0      4.632883  \n",
            "1      4.663062  \n",
            "2      4.655958  \n",
            "3      4.620748  \n"
          ]
        }
      ]
    },
    {
      "cell_type": "code",
      "source": [
        "print(date)"
      ],
      "metadata": {
        "colab": {
          "base_uri": "https://localhost:8080/"
        },
        "id": "nYKP7_frezbI",
        "outputId": "06248655-7f41-4bda-887f-bdcd13838320"
      },
      "execution_count": 14,
      "outputs": [
        {
          "output_type": "stream",
          "name": "stdout",
          "text": [
            "10    2023-04-20\n",
            "11    2023-04-21\n",
            "12    2023-04-24\n",
            "13    2023-04-25\n",
            "Name: Date, dtype: object\n"
          ]
        }
      ]
    },
    {
      "cell_type": "code",
      "source": [
        "X_test = data_preprocess(X,y,4)\n",
        "X_test.shape"
      ],
      "metadata": {
        "colab": {
          "base_uri": "https://localhost:8080/"
        },
        "id": "IJYUufpEsLJc",
        "outputId": "558b5e5b-1cbf-4bb2-fe06-552b3a9c4463"
      },
      "execution_count": 15,
      "outputs": [
        {
          "output_type": "stream",
          "name": "stdout",
          "text": [
            "(4, 13)\n"
          ]
        },
        {
          "output_type": "execute_result",
          "data": {
            "text/plain": [
              "(1, 4, 13)"
            ]
          },
          "metadata": {},
          "execution_count": 15
        }
      ]
    },
    {
      "cell_type": "code",
      "source": [
        "# load scaler and model weights from GAN_for_10_Stocks_Final.ipynb\n",
        "y_scaler = load('y_scaler.joblib')\n",
        "gen_model_best = tf.keras.models.load_model('/content/generator_AMZN_499.h5')"
      ],
      "metadata": {
        "colab": {
          "base_uri": "https://localhost:8080/"
        },
        "id": "Aqlq7gEk1rpS",
        "outputId": "8739e966-1925-44dd-a12a-3c87ff3c491f"
      },
      "execution_count": 18,
      "outputs": [
        {
          "output_type": "stream",
          "name": "stderr",
          "text": [
            "WARNING:tensorflow:No training configuration found in the save file, so the model was *not* compiled. Compile it manually.\n"
          ]
        }
      ]
    },
    {
      "cell_type": "markdown",
      "source": [
        "We obtain real Adjusted closing price of 'AMZN' for '26-04-2023' "
      ],
      "metadata": {
        "id": "KrO4H3R7NOPe"
      }
    },
    {
      "cell_type": "code",
      "source": [
        "startdate = pd.to_datetime('2023-04-26').date()\n",
        "enddate = pd.to_datetime('2023-04-27').date()\n",
        "AMZN_stock = yf.download('AMZN', start = startdate, end = enddate)\n",
        "real_y = AMZN_stock['Adj Close']\n",
        "print(AMZN_stock['Adj Close'])"
      ],
      "metadata": {
        "colab": {
          "base_uri": "https://localhost:8080/"
        },
        "id": "whVqY6Sj0EjC",
        "outputId": "26edb26a-b787-4a15-cc0f-061330b0194e"
      },
      "execution_count": 26,
      "outputs": [
        {
          "output_type": "stream",
          "name": "stdout",
          "text": [
            "\r[*********************100%***********************]  1 of 1 completed\n",
            "Date\n",
            "2023-04-26    104.980003\n",
            "Name: Adj Close, dtype: float64\n"
          ]
        }
      ]
    },
    {
      "cell_type": "code",
      "source": [
        "y_predicted = gen_model_best(X_test)\n",
        "predicted_y = y_scaler.inverse_transform(y_predicted)\n",
        "\n",
        "print('Predicted Y', predicted_y[0][0])\n",
        "\n",
        "real_y = np.array([104.980003])\n",
        "\n",
        "print('Real Y', real_y[0])\n",
        "\n",
        "Test_RMSE = np.sqrt(mean_squared_error(real_y, predicted_y))\n",
        "print('Test RMSE', Test_RMSE)"
      ],
      "metadata": {
        "colab": {
          "base_uri": "https://localhost:8080/"
        },
        "id": "fFsDeBVU8Mdp",
        "outputId": "31f1ce3c-260e-423b-9a52-37cf0ee88866"
      },
      "execution_count": 36,
      "outputs": [
        {
          "output_type": "stream",
          "name": "stdout",
          "text": [
            "Predicted Y 104.9346720245559\n",
            "Real Y 104.980003\n",
            "Test RMSE 0.04533097544410225\n"
          ]
        }
      ]
    }
  ]
}